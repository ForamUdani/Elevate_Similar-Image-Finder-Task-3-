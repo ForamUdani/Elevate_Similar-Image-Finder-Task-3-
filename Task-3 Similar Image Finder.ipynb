{
 "cells": [
  {
   "cell_type": "code",
   "execution_count": 6,
   "id": "7cca47cd",
   "metadata": {},
   "outputs": [],
   "source": [
    "from keras.preprocessing.image import load_img \n",
    "from keras.preprocessing.image import img_to_array \n",
    "from keras.applications.vgg16 import preprocess_input "
   ]
  },
  {
   "cell_type": "code",
   "execution_count": 7,
   "id": "616b0cbe",
   "metadata": {},
   "outputs": [],
   "source": [
    "from keras.applications.vgg16 import VGG16 \n",
    "from keras.models import Model"
   ]
  },
  {
   "cell_type": "code",
   "execution_count": 8,
   "id": "1b33514a",
   "metadata": {},
   "outputs": [],
   "source": [
    "from sklearn.cluster import KMeans\n",
    "from sklearn.decomposition import PCA"
   ]
  },
  {
   "cell_type": "code",
   "execution_count": 9,
   "id": "8c2075e0",
   "metadata": {},
   "outputs": [],
   "source": [
    "import os\n",
    "import numpy as np\n",
    "import matplotlib.pyplot as plt\n",
    "from random import randint\n",
    "import pandas as pd\n",
    "import pickle"
   ]
  },
  {
   "cell_type": "code",
   "execution_count": 10,
   "id": "b48bb297",
   "metadata": {},
   "outputs": [],
   "source": [
    "import warnings\n",
    "warnings.filterwarnings('ignore')"
   ]
  },
  {
   "cell_type": "code",
   "execution_count": 13,
   "id": "949cbebb",
   "metadata": {},
   "outputs": [],
   "source": [
    "path = r\"D:\\Downloads\\flower_images\\flower_images\"\n",
    "os.chdir(path)\n",
    "flowers = []\n",
    "with os.scandir(path) as files:\n",
    "    for file in files:\n",
    "        if file.name.endswith('.png'):\n",
    "            flowers.append(file.name)"
   ]
  },
  {
   "cell_type": "code",
   "execution_count": 14,
   "id": "12227dd6",
   "metadata": {},
   "outputs": [
    {
     "name": "stdout",
     "output_type": "stream",
     "text": [
      "(224, 224, 3)\n"
     ]
    },
    {
     "data": {
      "text/plain": [
       "(224, 224, 3)"
      ]
     },
     "execution_count": 14,
     "metadata": {},
     "output_type": "execute_result"
    }
   ],
   "source": [
    "img = load_img(flowers[0], target_size=(224,224))\n",
    "img = np.array(img)\n",
    "print(img.shape)\n",
    "(224, 224, 3)"
   ]
  },
  {
   "cell_type": "code",
   "execution_count": 15,
   "id": "98d66d76",
   "metadata": {},
   "outputs": [
    {
     "name": "stdout",
     "output_type": "stream",
     "text": [
      "(1, 224, 224, 3)\n"
     ]
    },
    {
     "data": {
      "text/plain": [
       "(1, 224, 224, 3)"
      ]
     },
     "execution_count": 15,
     "metadata": {},
     "output_type": "execute_result"
    }
   ],
   "source": [
    "reshaped_img = img.reshape(1,224,224,3)\n",
    "print(reshaped_img.shape)\n",
    "(1, 224, 224, 3)"
   ]
  },
  {
   "cell_type": "code",
   "execution_count": 16,
   "id": "0e91f819",
   "metadata": {},
   "outputs": [],
   "source": [
    "x = preprocess_input(reshaped_img)"
   ]
  },
  {
   "cell_type": "code",
   "execution_count": 17,
   "id": "898fa97d",
   "metadata": {},
   "outputs": [
    {
     "name": "stdout",
     "output_type": "stream",
     "text": [
      "Downloading data from https://storage.googleapis.com/tensorflow/keras-applications/vgg16/vgg16_weights_tf_dim_ordering_tf_kernels.h5\n",
      "\u001b[1m553467096/553467096\u001b[0m \u001b[32m━━━━━━━━━━━━━━━━━━━━\u001b[0m\u001b[37m\u001b[0m \u001b[1m319s\u001b[0m 1us/step\n"
     ]
    }
   ],
   "source": [
    "# load model\n",
    "model = VGG16()\n",
    "# remove the output layer\n",
    "model = Model(inputs=model.inputs, outputs=model.layers[-2].output)"
   ]
  },
  {
   "cell_type": "code",
   "execution_count": null,
   "id": "30e41376",
   "metadata": {},
   "outputs": [],
   "source": [
    "def extract_features(file, model):\n",
    "    \n",
    "    img = load_img(file, target_size=(224,224))\n",
    "    \n",
    "    img = np.array(img) \n",
    "    \n",
    "    reshaped_img = img.reshape(1,224,224,3) \n",
    "    \n",
    "    imgx = preprocess_input(reshaped_img)\n",
    "    \n",
    "    features = model.predict(imgx, use_multiprocessing=True)\n",
    "    return features\n",
    "   \n",
    "data = {}\n",
    "p = r\"D:\\Downloads\\flower_features1.pkl\"\n",
    "\n",
    "\n",
    "for flower in flowers:\n",
    "    \n",
    "    try:\n",
    "        feat = extract_features(flower,model)\n",
    "        data[flower] = feat\n",
    "    \n",
    "    except:\n",
    "        with open(p,'wb') as file:\n",
    "            pickle.dump(data,file)\n",
    "          \n",
    " \n",
    "\n",
    "filenames = np.array(list(data.keys()))\n",
    "\n",
    "\n",
    "feat = np.array(list(data.values()))\n",
    "\n",
    "\n",
    "feat = feat.reshape(-1,4096)\n",
    "\n",
    "\n",
    "df = pd.read_csv('flower_labels.csv')\n",
    "label = df['label'].tolist()\n",
    "unique_labels = list(set(label))\n",
    "\n",
    "\n",
    "pca = PCA(n_components=100, random_state=22)\n",
    "pca.fit(feat)\n",
    "x = pca.transform(feat)\n",
    "\n",
    "\n",
    "kmeans = KMeans(n_clusters=len(unique_labels),n_jobs=-1, random_state=22)\n",
    "kmeans.fit(x)\n",
    "\n",
    "\n",
    "groups = {}\n",
    "for file, cluster in zip(filenames,kmeans.labels_):\n",
    "    if cluster not in groups.keys():\n",
    "        groups[cluster] = []\n",
    "        groups[cluster].append(file)\n",
    "    else:\n",
    "        groups[cluster].append(file)\n",
    "\n",
    "        \n",
    "def view_cluster(cluster):\n",
    "    plt.figure(figsize = (25,25));\n",
    "    \n",
    "    files = groups[cluster]\n",
    "    \n",
    "    if len(files) > 30:\n",
    "        print(f\"Clipping cluster size from {len(files)} to 30\")\n",
    "        files = files[:29]\n",
    "    \n",
    "    for index, file in enumerate(files):\n",
    "        plt.subplot(10,10,index+1);\n",
    "        img = load_img(file)\n",
    "        img = np.array(img)\n",
    "        plt.imshow(img)\n",
    "        plt.axis('off')\n",
    "        \n",
    "   \n",
    "\n",
    "sse = []\n",
    "list_k = list(range(3, 50))\n",
    "\n",
    "for k in list_k:\n",
    "    km = KMeans(n_clusters=k, random_state=22, n_jobs=-1)\n",
    "    km.fit(x)\n",
    "    \n",
    "    sse.append(km.inertia_)\n",
    "\n",
    "\n",
    "plt.figure(figsize=(6, 6))\n",
    "plt.plot(list_k, sse)\n",
    "plt.xlabel(r'Number of clusters *k*')\n",
    "plt.ylabel('Sum of squared distance');\n",
    "plt.show()"
   ]
  },
  {
   "cell_type": "code",
   "execution_count": 26,
   "id": "a2b7c927",
   "metadata": {},
   "outputs": [],
   "source": []
  },
  {
   "cell_type": "code",
   "execution_count": 28,
   "id": "590636bb",
   "metadata": {},
   "outputs": [],
   "source": [
    "\n"
   ]
  },
  {
   "cell_type": "code",
   "execution_count": null,
   "id": "8e6c5053",
   "metadata": {},
   "outputs": [],
   "source": []
  },
  {
   "cell_type": "code",
   "execution_count": null,
   "id": "7d24d548",
   "metadata": {},
   "outputs": [],
   "source": []
  },
  {
   "cell_type": "code",
   "execution_count": null,
   "id": "64999bc8",
   "metadata": {},
   "outputs": [],
   "source": []
  },
  {
   "cell_type": "code",
   "execution_count": null,
   "id": "4dc6a0a9",
   "metadata": {},
   "outputs": [],
   "source": []
  }
 ],
 "metadata": {
  "kernelspec": {
   "display_name": "Python 3 (ipykernel)",
   "language": "python",
   "name": "python3"
  },
  "language_info": {
   "codemirror_mode": {
    "name": "ipython",
    "version": 3
   },
   "file_extension": ".py",
   "mimetype": "text/x-python",
   "name": "python",
   "nbconvert_exporter": "python",
   "pygments_lexer": "ipython3",
   "version": "3.9.13"
  }
 },
 "nbformat": 4,
 "nbformat_minor": 5
}
